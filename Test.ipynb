{
 "cells": [
  {
   "cell_type": "code",
   "execution_count": 7,
   "metadata": {},
   "outputs": [
    {
     "name": "stdout",
     "output_type": "stream",
     "text": [
      "Choose language\n",
      "How are you Sally\n",
      "67\n"
     ]
    }
   ],
   "source": [
    "# <Function>\n",
    "##PY4E 4.2\n",
    "\n",
    "#Function: Takes some input and produces output\n",
    "#Parameter : Variable used in the function definition (下の例でいうとlang). In other words, function defines the parameter\n",
    "#Argument : 関数に渡される具体的な値。関数内での実際の計算に使われる\n",
    "\n",
    "def greet(lang):\n",
    "    if lang == 'EN':\n",
    "        print('Hello')\n",
    "    elif lang == 'JP':\n",
    "        print('こんにちは')\n",
    "    else:\n",
    "        print('Choose language')\n",
    "        \n",
    "        \n",
    "greet ('FR') #langに登録されてるどこにも属さない言語なのでChoose languageをかえす\n",
    "\n",
    "#Return:\n",
    " #   ①Stops the function and jump to next line\n",
    "  #  ②Return the Residual value\n",
    "\n",
    "#\"Example 1\n",
    "def greet ():\n",
    "    return \"How are you\"\n",
    "#ReturnはResidual valueである”How are you”をかえす\n",
    "\n",
    "print(greet(),\"Sally\")\n",
    " \n",
    "#Example 2\n",
    " #Function can define more than one parameter (a and b)\n",
    "def sumtwo(a,b):\n",
    "    sum = a + b\n",
    "    return sum\n",
    "x = sumtwo(12,55)\n",
    "print(x)\n",
    "\n",
    " \n",
    " "
   ]
  },
  {
   "cell_type": "code",
   "execution_count": 8,
   "metadata": {},
   "outputs": [
    {
     "name": "stdout",
     "output_type": "stream",
     "text": [
      "first:12,second:22,third:44\n",
      "first:22,second:44,third:13\n"
     ]
    }
   ],
   "source": [
    "# <Function 続き> \n",
    "#Example 3: Positional parameter と Keyword parameter\n",
    " #位置パラメタを使った場合\n",
    "def print_parameters(first,second,third):\n",
    "    print(f'first:{first},second:{second},third:{third}')\n",
    "    \n",
    "print_parameters(12,22,44)\n",
    "\n",
    " #キーワードパラメタを使った場合 \n",
    "print_parameters(third=13,first=22,second=44)\n"
   ]
  },
  {
   "cell_type": "code",
   "execution_count": 9,
   "metadata": {},
   "outputs": [
    {
     "name": "stdout",
     "output_type": "stream",
     "text": [
      "5\n",
      "4\n",
      "3\n",
      "2\n",
      "1\n",
      "Enough!\n"
     ]
    }
   ],
   "source": [
    "#<Loops and Iteration>\n",
    "n = 5\n",
    "while n > 0 :\n",
    "    print(n)\n",
    "    n = n-1 #この一行がないとInfinite roopにはいってしまう！！\n",
    "print('Enough!')\n",
    "\n",
    "    "
   ]
  },
  {
   "cell_type": "code",
   "execution_count": null,
   "metadata": {},
   "outputs": [],
   "source": [
    "\n",
    "\n",
    "    "
   ]
  },
  {
   "cell_type": "code",
   "execution_count": 16,
   "metadata": {},
   "outputs": [
    {
     "name": "stdout",
     "output_type": "stream",
     "text": [
      "Please end\n",
      "END\n",
      "Please end\n"
     ]
    }
   ],
   "source": [
    "\n",
    "sentence = input('>> ')\n",
    "print (sentence)\n",
    "\n",
    "if sentence == 'Please end':\n",
    "    print('END')\n",
    "print(sentence)\n"
   ]
  }
 ],
 "metadata": {
  "kernelspec": {
   "display_name": "Python 3",
   "language": "python",
   "name": "python3"
  },
  "language_info": {
   "codemirror_mode": {
    "name": "ipython",
    "version": 3
   },
   "file_extension": ".py",
   "mimetype": "text/x-python",
   "name": "python",
   "nbconvert_exporter": "python",
   "pygments_lexer": "ipython3",
   "version": "3.11.4"
  },
  "orig_nbformat": 4
 },
 "nbformat": 4,
 "nbformat_minor": 2
}
